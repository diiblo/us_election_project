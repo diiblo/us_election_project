{
 "cells": [
  {
   "cell_type": "code",
   "execution_count": 56,
   "id": "2888a97a-d8c0-45ee-b787-2386791afb53",
   "metadata": {},
   "outputs": [],
   "source": [
    "import os\n",
    "from pyspark.sql import SparkSession\n",
    "from pyspark.sql import functions as F\n",
    "\n",
    "# Configuration de la SparkSession pour se connecter au cluster\n",
    "spark = SparkSession.builder \\\n",
    "    .master(\"spark://pyspark-master:7077\") \\\n",
    "    .appName(\"MySparkApp\") \\\n",
    "    .config(\"spark.executor.memory\", \"1g\") \\\n",
    "    .config(\"spark.jars\", \"/usr/local/spark/jars/postgresql-42.6.0.jar\") \\\n",
    "    .getOrCreate()"
   ]
  },
  {
   "cell_type": "code",
   "execution_count": 57,
   "id": "e6c1c324-4959-465c-8ba7-40ec6d0d64ab",
   "metadata": {},
   "outputs": [
    {
     "name": "stdout",
     "output_type": "stream",
     "text": [
      "Fichier CSV généré : /tmp/election_stream.csv\n"
     ]
    }
   ],
   "source": [
    "import pandas as pd\n",
    "from sqlalchemy import create_engine\n",
    "# Charger la table PostgreSQL dans PySpark\n",
    "df_election = spark.read \\\n",
    "    .format(\"jdbc\") \\\n",
    "    .option(\"url\", \"jdbc:postgresql://pg-ds-dellstore:5432/us_election_db\") \\\n",
    "    .option(\"dbtable\", \"election_data\") \\\n",
    "    .option(\"user\", \"postgres\") \\\n",
    "    .option(\"password\", \"postgres\") \\\n",
    "    .load()\n",
    "\n",
    "# Filtrer les IDs pairs pour le traitement batch\n",
    "df_batch = df_election.filter(F.col(\"id\") % 2 == 0)\n",
    "\n",
    "# Paramètres de connexion PostgreSQL\n",
    "user = \"postgres\"\n",
    "password = \"postgres\"\n",
    "host = \"pg-ds-dellstore\"\n",
    "port = \"5432\"\n",
    "database = \"us_election_db\"\n",
    "\n",
    "# Créer un moteur SQLAlchemy pour PostgreSQL\n",
    "engine = create_engine(f'postgresql+psycopg2://{user}:{password}@{host}:{port}/{database}')\n",
    "\n",
    "# 1. Charger les données PostgreSQL dans un DataFrame\n",
    "query = \"SELECT * FROM election_data WHERE MOD(id, 2) != 0;\"  # Filtrer les IDs impairs directement dans la requête\n",
    "df = pd.read_sql_query(query, engine)\n",
    "\n",
    "# 2. Sauvegarder les données en CSV\n",
    "csv_file = \"/tmp/election_stream.csv\"\n",
    "df.to_csv(csv_file, index=False)\n",
    "print(f\"Fichier CSV généré : {csv_file}\")\n",
    "# Affichage des résultats pour vérifier\n",
    "#df_batch.show()\n",
    "\n",
    "#df_election.show()  # Vérifier que les données sont bien chargées"
   ]
  },
  {
   "cell_type": "code",
   "execution_count": 58,
   "id": "701ef5e4-15ec-47e7-86f5-4a7e23470e45",
   "metadata": {},
   "outputs": [],
   "source": [
    "# Afficher les données pour vérifier le chargement\n",
    "#df_election.show()\n",
    "\n",
    "# 1. Ajouter une colonne \"score_difference\" au niveau des comtés\n",
    "df_with_diff = df_batch.withColumn(\n",
    "    \"score_difference\",\n",
    "    F.abs(F.col(\"Trump\") - F.col(\"Harris\"))\n",
    ")\n",
    "\n",
    "# 2. Agréger les scores par État\n",
    "df_state_aggregation = df_with_diff.groupBy(\"State\").agg(\n",
    "    F.sum(\"Trump\").alias(\"total_trump\"),\n",
    "    F.sum(\"Harris\").alias(\"total_harris\")\n",
    ")\n",
    "\n",
    "# 3. Déterminer le candidat gagnant par État\n",
    "df_state_with_leader = df_state_aggregation.withColumn(\n",
    "    \"leading_candidate\",\n",
    "    F.when(F.col(\"total_trump\") > F.col(\"total_harris\"), \"Trump\").otherwise(\"Harris\")\n",
    ")\n",
    "\n",
    "# 4. Joindre les données agrégées par État au DataFrame initial\n",
    "df_final = df_with_diff.join(\n",
    "    df_state_with_leader,\n",
    "    on=\"State\",\n",
    "    how=\"left\"\n",
    ")\n",
    "\n",
    "# Vérification des données finales\n",
    "#df_final.select(\n",
    "#    \"State\", \"County\", \"Trump\", \"Harris\", \n",
    "#    \"score_difference\", \"total_trump\", \n",
    "#    \"total_harris\", \"leading_candidate\"\n",
    "#).show()\n",
    "\n",
    "#df_final.select(\n",
    "#    \"id\", \"County\"\n",
    "#).show()\n",
    "\n",
    "# 5. Sauvegarder les données enrichies dans PostgreSQL\n",
    "df_final.write \\\n",
    "    .format(\"jdbc\") \\\n",
    "    .option(\"url\", \"jdbc:postgresql://pg-ds-dellstore:5432/us_election_db\") \\\n",
    "    .option(\"dbtable\", \"public.election_data_enriched\") \\\n",
    "    .option(\"user\", \"postgres\") \\\n",
    "    .option(\"password\", \"postgres\") \\\n",
    "    .option(\"driver\", \"org.postgresql.Driver\") \\\n",
    "    .mode(\"overwrite\") \\\n",
    "    .save()"
   ]
  },
  {
   "cell_type": "code",
   "execution_count": null,
   "id": "02af0765-0b01-4bc7-a959-271b75c38865",
   "metadata": {},
   "outputs": [],
   "source": [
    "from kafka import KafkaProducer\n",
    "import time\n",
    "import csv\n",
    "import json\n",
    "\n",
    "producer = KafkaProducer(\n",
    "    bootstrap_servers=['kafka:29092'],\n",
    "    value_serializer=lambda v: json.dumps(v).encode('utf-8')\n",
    ")\n",
    "\n",
    "# Lecture du fichier CSV\n",
    "with open('/tmp/election_stream.csv', 'r') as csvfile:\n",
    "    reader = csv.DictReader(csvfile)\n",
    "    for row in reader:\n",
    "        # Envoi de chaque ligne à Kafka\n",
    "        producer.send('election_stream', row)  # Envoi au topic Kafka\n",
    "        print(f\"Envoyé : {row}\")\n",
    "        time.sleep(2)  # Pause pour simuler un flux continu\n"
   ]
  },
  {
   "cell_type": "code",
   "execution_count": null,
   "id": "391e847c-f8ae-4b8a-8fef-1be983923f91",
   "metadata": {},
   "outputs": [],
   "source": []
  },
  {
   "cell_type": "code",
   "execution_count": null,
   "id": "177a9ed5-b88d-4eea-9013-4e63e732ea80",
   "metadata": {},
   "outputs": [],
   "source": []
  }
 ],
 "metadata": {
  "kernelspec": {
   "display_name": "Python 3 (ipykernel)",
   "language": "python",
   "name": "python3"
  },
  "language_info": {
   "codemirror_mode": {
    "name": "ipython",
    "version": 3
   },
   "file_extension": ".py",
   "mimetype": "text/x-python",
   "name": "python",
   "nbconvert_exporter": "python",
   "pygments_lexer": "ipython3",
   "version": "3.11.6"
  }
 },
 "nbformat": 4,
 "nbformat_minor": 5
}
