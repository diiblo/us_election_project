{
 "cells": [
  {
   "cell_type": "code",
   "execution_count": null,
   "id": "98ab2ccd-b8c8-4301-830a-f0437e2dbed5",
   "metadata": {},
   "outputs": [],
   "source": [
    "from pyspark.sql import SparkSession\n",
    "from pyspark.sql import functions as F\n",
    "\n",
    "# Configuration de la SparkSession pour se connecter au cluster\n",
    "spark = SparkSession.builder \\\n",
    "    .master(\"spark://pyspark-master:7077\") \\\n",
    "    .appName(\"ElectionDataAnalysis\") \\\n",
    "    .config(\"spark.executor.memory\", \"1g\") \\\n",
    "    .config(\"spark.jars\", \"/usr/local/spark/jars/postgresql-42.6.0.jar\") \\\n",
    "    .getOrCreate()"
   ]
  },
  {
   "cell_type": "code",
   "execution_count": null,
   "id": "d5c2c690-77c8-4eb4-a3e3-077ba17fd724",
   "metadata": {},
   "outputs": [],
   "source": [
    "# Charger la table PostgreSQL dans PySpark\n",
    "df_election = spark.read \\\n",
    "    .format(\"jdbc\") \\\n",
    "    .option(\"url\", \"jdbc:postgresql://pg-ds-dellstore:5432/us_election_db\") \\\n",
    "    .option(\"dbtable\", \"election_data\") \\\n",
    "    .option(\"user\", \"postgres\") \\\n",
    "    .option(\"password\", \"postgres\") \\\n",
    "    .load()\n",
    "\n",
    "# df_election.show()  # Vérifier que les données sont bien chargées"
   ]
  },
  {
   "cell_type": "code",
   "execution_count": null,
   "id": "7bca2b25-6104-4e34-bcc1-6220ced21811",
   "metadata": {},
   "outputs": [],
   "source": [
    "# Afficher les données pour vérifier le chargement\n",
    "#df_election.show()\n",
    "\n",
    "# 1. Ajouter une colonne \"score_difference\" au niveau des comtés\n",
    "df_with_diff = df_election.withColumn(\n",
    "    \"score_difference\",\n",
    "    F.abs(F.col(\"Trump\") - F.col(\"Harris\"))\n",
    ")\n",
    "\n",
    "# 2. Agréger les scores par État\n",
    "df_state_aggregation = df_with_diff.groupBy(\"State\").agg(\n",
    "    F.sum(\"Trump\").alias(\"total_trump\"),\n",
    "    F.sum(\"Harris\").alias(\"total_harris\")\n",
    ")\n",
    "\n",
    "# 3. Déterminer le candidat gagnant par État\n",
    "df_state_with_leader = df_state_aggregation.withColumn(\n",
    "    \"leading_candidate\",\n",
    "    F.when(F.col(\"total_trump\") > F.col(\"total_harris\"), \"Trump\").otherwise(\"Harris\")\n",
    ")\n",
    "\n",
    "# 4. Joindre les données agrégées par État au DataFrame initial\n",
    "df_final = df_with_diff.join(\n",
    "    df_state_with_leader,\n",
    "    on=\"State\",\n",
    "    how=\"left\"\n",
    ")\n",
    "\n",
    "# Vérification des données finales\n",
    "#df_final.select(\n",
    "#    \"State\", \"County\", \"Trump\", \"Harris\", \n",
    "#    \"score_difference\", \"total_trump\", \n",
    "#    \"total_harris\", \"leading_candidate\"\n",
    "#).show()"
   ]
  },
  {
   "cell_type": "code",
   "execution_count": null,
   "id": "27a6fb4d-c7e1-4b9a-8222-774572c41a20",
   "metadata": {},
   "outputs": [],
   "source": [
    "# 5. Sauvegarder les données enrichies dans PostgreSQL\n",
    "df_final.write \\\n",
    "    .format(\"jdbc\") \\\n",
    "    .option(\"url\", \"jdbc:postgresql://pg-ds-dellstore:5432/us_election_db\") \\\n",
    "    .option(\"dbtable\", \"public.election_data_enriched\") \\\n",
    "    .option(\"user\", \"postgres\") \\\n",
    "    .option(\"password\", \"postgres\") \\\n",
    "    .option(\"driver\", \"org.postgresql.Driver\") \\\n",
    "    .mode(\"overwrite\") \\\n",
    "    .save()"
   ]
  }
 ],
 "metadata": {
  "kernelspec": {
   "display_name": "Python 3 (ipykernel)",
   "language": "python",
   "name": "python3"
  },
  "language_info": {
   "codemirror_mode": {
    "name": "ipython",
    "version": 3
   },
   "file_extension": ".py",
   "mimetype": "text/x-python",
   "name": "python",
   "nbconvert_exporter": "python",
   "pygments_lexer": "ipython3",
   "version": "3.11.6"
  }
 },
 "nbformat": 4,
 "nbformat_minor": 5
}
